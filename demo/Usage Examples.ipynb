{
 "cells": [
  {
   "cell_type": "code",
   "execution_count": 1,
   "id": "f67b9065-ba37-4556-a094-35d1010713a2",
   "metadata": {},
   "outputs": [],
   "source": [
    "%load_ext autoreload\n",
    "%autoreload 2"
   ]
  },
  {
   "cell_type": "code",
   "execution_count": 2,
   "id": "ae66ef23-96c1-4f87-8be6-cd2e85b4ea5d",
   "metadata": {},
   "outputs": [],
   "source": [
    "import sys\n",
    "sys.path.append('..')"
   ]
  },
  {
   "cell_type": "code",
   "execution_count": 3,
   "id": "b2817536-34a6-4e99-86ef-dc56bd02d9f4",
   "metadata": {},
   "outputs": [],
   "source": [
    "import ipasymbols"
   ]
  },
  {
   "cell_type": "markdown",
   "id": "70b130c5-d6b5-47d4-92ed-bb762c7fc94d",
   "metadata": {},
   "source": [
    "### Example IPA Text"
   ]
  },
  {
   "cell_type": "code",
   "execution_count": 4,
   "id": "00c322cc-56e0-480f-90c5-2aab4e8886bd",
   "metadata": {},
   "outputs": [],
   "source": [
    "ipatext = \"de:ɐ̯ kɔʊd ɪst fɔl blø:t abɐ aʊ̯x tɔl\""
   ]
  },
  {
   "cell_type": "markdown",
   "id": "9e541e40-e99a-471b-a44e-1cd91497e2cd",
   "metadata": {},
   "source": [
    "### Get lists of IPA phons\n"
   ]
  },
  {
   "cell_type": "code",
   "execution_count": 5,
   "id": "1d34a0ec-214f-4baa-9dbb-ab3b8fd3f86c",
   "metadata": {},
   "outputs": [
    {
     "name": "stdout",
     "output_type": "stream",
     "text": [
      "['ɐ', 'ɑ', 'ɒ', 'ɔ', 'ɘ', 'ə', 'ɛ', 'ɜ', 'ɞ', 'ɤ', 'ɨ', 'ɪ', 'ɯ', 'ɵ', 'ɶ', 'ʉ', 'ʊ', 'ʌ', 'ʏ', 'i', 'y', 'e', 'ø', 'e̞', 'ø̞', 'œ', 'æ', 'a', 'ä', 'u', 'o', 'ɤ̞', 'o̞', 'ɪ̈', 'ʊ̈']\n"
     ]
    }
   ],
   "source": [
    "# all vowels\n",
    "all_vowels = ipasymbols.phonlist(query={'type': 'vowel'})\n",
    "print(all_vowels)"
   ]
  },
  {
   "cell_type": "code",
   "execution_count": 6,
   "id": "a78465cd-4593-42aa-8dd9-7fcf0fcf3a08",
   "metadata": {},
   "outputs": [
    {
     "name": "stdout",
     "output_type": "stream",
     "text": [
      "['ɛ', 'ɪ', 'ɶ', 'ʏ', 'i', 'y', 'e', 'ø', 'e̞', 'ø̞', 'œ', 'æ', 'a']\n"
     ]
    }
   ],
   "source": [
    "# front vowels\n",
    "front_vowels = ipasymbols.phonlist(query={'type': 'vowel', 'backness': 'front'})\n",
    "print(front_vowels)"
   ]
  },
  {
   "cell_type": "code",
   "execution_count": 7,
   "id": "e510daa1-97b9-4423-ad3a-1438e23c28a9",
   "metadata": {},
   "outputs": [
    {
     "name": "stdout",
     "output_type": "stream",
     "text": [
      "[]\n"
     ]
    }
   ],
   "source": [
    "# diphthongs (2 char vowels)\n",
    "diphthongs = ipasymbols.phonlist(query={'type': 'diphthong'})\n",
    "print(diphthongs)"
   ]
  },
  {
   "cell_type": "code",
   "execution_count": 8,
   "id": "7471f959-bfe4-48c7-9385-11a396a14d29",
   "metadata": {},
   "outputs": [
    {
     "name": "stdout",
     "output_type": "stream",
     "text": [
      "['ɕ', 'ɖ', 'ɟ', 'ɡ', 'ɢ', 'ɣ', 'ɦ', 'ɬ', 'ɭ', 'ɮ', 'ɰ', 'ɱ', 'ɲ', 'ɳ', 'ɴ', 'ɸ', 'ɹ', 'ɺ', 'ɻ', 'ɽ', 'ɾ', 'ʀ', 'ʁ', 'ʂ', 'ʃ', 'ʈ', 'ʋ', 'ʎ', 'ʐ', 'ʑ', 'ʒ', 'ʔ', 'ʕ', 'ʙ', 'ʜ', 'ʝ', 'ʟ', 'ʡ', 'ʢ', 'm̥', 'm', 'n̼', 'n̥', 'n', 'ɳ̊', 'ɲ̊', 'ŋ̊', 'ŋ', 'p', 'b', 'p̪', 'b̪', 't̼', 'd̼', 't', 'd', 'c', 'k', 'q', 's', 'z', 'β', 'f', 'v', 'θ̼', 'ð̼', 'θ', 'ð', 'θ̠', 'ð̠', 'ɹ̠̊˔', 'ɹ̠˔', 'ɻ˔', 'ç', 'x', 'χ', 'ħ', 'h', 'j', 'ʔ̞', 'ⱱ̟', 'ⱱ', 'ɾ̼', 'ɾ̥', 'ɽ̊', 'ɢ̆', 'ʡ̆', 'ʙ̥', 'r̥', 'r', 'ɽ̊r̥', 'ɽr', 'ʀ̥', 'ɭ̊˔', 'ɭ˔', 'ʎ̝̊', 'ʎ̝', 'ʟ̝̊', 'ʟ̝', 'l', 'ʟ̠', 'ɺ̥', 'ɭ̥̆', 'ɭ̆', 'ʎ̆', 'ʟ̆']\n"
     ]
    }
   ],
   "source": [
    "# different types of consonants\n",
    "consonants = ipasymbols.phonlist(query={'type': [\"pulmonic\", \"non-pulmonic\"]})\n",
    "print(consonants)"
   ]
  },
  {
   "cell_type": "markdown",
   "id": "3e3e2d7d-720f-4408-85da-72e4691705bc",
   "metadata": {},
   "source": [
    "### Get properties of an IPA phon"
   ]
  },
  {
   "cell_type": "code",
   "execution_count": 9,
   "id": "55924a5c-58ca-47f6-98e0-4e5d0a20d1a5",
   "metadata": {},
   "outputs": [
    {
     "data": {
      "text/plain": [
       "{'height': 'near-close'}"
      ]
     },
     "execution_count": 9,
     "metadata": {},
     "output_type": "execute_result"
    }
   ],
   "source": [
    "phon = 'ɪ'\n",
    "props = ipasymbols.props(phon=phon, keys=[\"height\", \"not-existing\"])\n",
    "props"
   ]
  },
  {
   "cell_type": "markdown",
   "id": "f7b4d4ee-113a-4447-8ecf-6c98efa6b130",
   "metadata": {},
   "source": [
    "### Count certain kinds of IPA symbols"
   ]
  },
  {
   "cell_type": "code",
   "execution_count": 10,
   "id": "f726d5bd-9699-4862-b2d3-8fc764cca829",
   "metadata": {},
   "outputs": [
    {
     "data": {
      "text/plain": [
       "12"
      ]
     },
     "execution_count": 10,
     "metadata": {},
     "output_type": "execute_result"
    }
   ],
   "source": [
    "# 1 char vowels\n",
    "all_vowels = ipasymbols.count(ipatext, query={'type': 'vowel'})\n",
    "all_vowels"
   ]
  },
  {
   "cell_type": "code",
   "execution_count": 11,
   "id": "84ba01fa-4706-49ee-9b07-1ecbc948d325",
   "metadata": {},
   "outputs": [
    {
     "data": {
      "text/plain": [
       "5"
      ]
     },
     "execution_count": 11,
     "metadata": {},
     "output_type": "execute_result"
    }
   ],
   "source": [
    "front_vowels = ipasymbols.count(ipatext, query={'type': 'vowel', 'backness': 'front'})\n",
    "front_vowels"
   ]
  },
  {
   "cell_type": "code",
   "execution_count": 12,
   "id": "d2d5b32d-0b88-4708-95c3-df92476b6328",
   "metadata": {},
   "outputs": [
    {
     "data": {
      "text/plain": [
       "0"
      ]
     },
     "execution_count": 12,
     "metadata": {},
     "output_type": "execute_result"
    }
   ],
   "source": [
    "# diphthongs (2 char vowels)\n",
    "diphthongs = ipasymbols.count(ipatext, query={'type': 'diphthong'})\n",
    "diphthongs"
   ]
  },
  {
   "cell_type": "code",
   "execution_count": 13,
   "id": "a2b81b07-d448-4e87-a660-d4fa0a24d945",
   "metadata": {},
   "outputs": [
    {
     "data": {
      "text/plain": [
       "14"
      ]
     },
     "execution_count": 13,
     "metadata": {},
     "output_type": "execute_result"
    }
   ],
   "source": [
    "# different types of consonants\n",
    "consonants = ipasymbols.count(ipatext, query={'type': [\"pulmonic\", \"non-pulmonic\"]})\n",
    "consonants"
   ]
  },
  {
   "cell_type": "markdown",
   "id": "081780cc-8fc1-47e9-a211-0acefe2aae4d",
   "metadata": {},
   "source": [
    "### Count consonant clusters"
   ]
  },
  {
   "cell_type": "code",
   "execution_count": 14,
   "id": "3e568f5a-db76-4ece-b42e-94e4b9164566",
   "metadata": {},
   "outputs": [
    {
     "name": "stdout",
     "output_type": "stream",
     "text": [
      "{2: 2}\n"
     ]
    }
   ],
   "source": [
    "ipatext = \"de:ɐ̯ kɔʊd ɪst fɔl blø:t abɐ aʊ̯x tɔl\"\n",
    "\n",
    "types = [\"pulmonic\", \"non-pulmonic\", \"affricate\", \"co-articulated\"]\n",
    "\n",
    "clusters = ipasymbols.count_clusters(\n",
    "    ipatext, query={\"type\": types}, phonlen=3, min_cluster_len=2)\n",
    "\n",
    "print(clusters)"
   ]
  },
  {
   "cell_type": "code",
   "execution_count": null,
   "id": "90a5b542-2c7e-4e6b-b0c9-d43b124daccb",
   "metadata": {},
   "outputs": [],
   "source": []
  }
 ],
 "metadata": {
  "kernelspec": {
   "display_name": "Python 3 (ipykernel)",
   "language": "python",
   "name": "python3"
  },
  "language_info": {
   "codemirror_mode": {
    "name": "ipython",
    "version": 3
   },
   "file_extension": ".py",
   "mimetype": "text/x-python",
   "name": "python",
   "nbconvert_exporter": "python",
   "pygments_lexer": "ipython3",
   "version": "3.7.9"
  }
 },
 "nbformat": 4,
 "nbformat_minor": 5
}
