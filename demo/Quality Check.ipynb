{
 "cells": [
  {
   "cell_type": "code",
   "execution_count": 1,
   "id": "e7061590-1a6b-4453-b3fa-49bb0d9f1a7e",
   "metadata": {},
   "outputs": [],
   "source": [
    "%load_ext autoreload\n",
    "%autoreload 2"
   ]
  },
  {
   "cell_type": "code",
   "execution_count": 2,
   "id": "11e904ce-6cf8-4a62-8f1d-f027a1230854",
   "metadata": {},
   "outputs": [],
   "source": [
    "import sys\n",
    "sys.path.append('..')"
   ]
  },
  {
   "cell_type": "code",
   "execution_count": 3,
   "id": "1e7df7ca-0529-453a-a693-b3f1c010d0bc",
   "metadata": {},
   "outputs": [],
   "source": [
    "from ipasymbols import db"
   ]
  },
  {
   "cell_type": "markdown",
   "id": "ddac044e-4d1a-4dd3-b57e-7d25fab40c40",
   "metadata": {},
   "source": [
    "### How many phons are registered?"
   ]
  },
  {
   "cell_type": "code",
   "execution_count": 4,
   "id": "7eaecbc3-3bab-4787-962a-21719cc28c5c",
   "metadata": {},
   "outputs": [
    {
     "data": {
      "text/plain": [
       "179"
      ]
     },
     "execution_count": 4,
     "metadata": {},
     "output_type": "execute_result"
    }
   ],
   "source": [
    "len(db)"
   ]
  },
  {
   "cell_type": "markdown",
   "id": "ba870b12-7c10-423f-868e-df6524ca614c",
   "metadata": {},
   "source": [
    "### Which phons are not classified yet?"
   ]
  },
  {
   "cell_type": "code",
   "execution_count": 5,
   "id": "3b77bb78-e50a-42c1-a626-9d12dbaf6d5c",
   "metadata": {},
   "outputs": [
    {
     "name": "stdout",
     "output_type": "stream",
     "text": [
      "ɓ Voiced bilabial implosive\n",
      "ɗ Voiced alveolar implosive\n",
      "ɚ Rhotacized Mid central vowel\n",
      "ɝ Rhotacized Open-mid central unrounded vowel\n",
      "ɠ Voiced velar implosive\n",
      "ɥ Labial-palatal approximant\n",
      "ɧ Swedish sj-sound. Similar to: Voiceless postalveolar fricative, Voiceless velar fricative\n",
      "ɩ pre-1989 form of \"ɪ\" (obsolete)\n",
      "ɫ Velar/pharyngeal Alveolar lateral approximant\n",
      "ɷ pre-1989 form of \"ʊ\" (obsolete)\n",
      "ɼ Alveolar trill\n",
      "ɿ Syllabic voiced alveolar fricative (Sinologist usage)\n",
      "ʄ Voiced palatal implosive\n",
      "ʅ Syllabic voiced retroflex fricative (Sinologist usage)\n",
      "ʆ Voiceless alveolo-palatal fricative (obsolete)\n",
      "ʇ Dental click (obsolete)\n",
      "ʍ Voiceless labiovelar approximant\n",
      "ʓ Voiced alveolo-palatal fricative (obsolete)\n",
      "ʖ Alveolar lateral click (obsolete)\n",
      "ʗ Postalveolar click (obsolete)\n",
      "ʘ Bilabial click\n",
      "ʚ A mistake for [œ]\n",
      "ʛ Voiced uvular implosive\n",
      "ʞ Velar click (obsolete)\n",
      "ʠ \"Voiceless\" uvular implosive (obsolete)\n",
      "ʣ Voiced alveolar affricate (obsolete)\n",
      "ʤ Voiced postalveolar affricate (obsolete)\n",
      "ʥ Voiced alveolo-palatal affricate (obsolete)\n",
      "ʦ Voiceless alveolar affricate (obsolete)\n",
      "ʧ Voiceless postalveolar affricate (obsolete)\n",
      "ʨ Voiceless alveolo-palatal affricate (obsolete)\n",
      "ʩ velopharyngeal fricative\n",
      "ʪ Voiceless grooved lateral alveolar fricative\n",
      "ʫ voiced grooved lateral alveolar fricative\n",
      "ʬ Bilabial percussive\n",
      "ʭ Bidental percussive\n",
      "ʮ Syllabic labialized voiced alveolar fricative (Sinologist usage)\n",
      "ʯ Syllabic labialized voiced retroflex fricative (Sinologist usage)\n"
     ]
    }
   ],
   "source": [
    "for phon, props in db.items():\n",
    "    if props.get(\"type\") is None:\n",
    "        print(phon, props.get(\"ipa-description\"))"
   ]
  },
  {
   "cell_type": "code",
   "execution_count": null,
   "id": "4998a037-cf16-41d4-9dc0-1ce59402787b",
   "metadata": {},
   "outputs": [],
   "source": []
  }
 ],
 "metadata": {
  "kernelspec": {
   "display_name": "Python 3 (ipykernel)",
   "language": "python",
   "name": "python3"
  },
  "language_info": {
   "codemirror_mode": {
    "name": "ipython",
    "version": 3
   },
   "file_extension": ".py",
   "mimetype": "text/x-python",
   "name": "python",
   "nbconvert_exporter": "python",
   "pygments_lexer": "ipython3",
   "version": "3.7.9"
  }
 },
 "nbformat": 4,
 "nbformat_minor": 5
}
